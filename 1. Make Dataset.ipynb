{
 "cells": [
  {
   "cell_type": "markdown",
   "id": "c96ac0cc-deb8-413a-a4cb-6b67b980d1f3",
   "metadata": {},
   "source": [
    "# Make Dataset"
   ]
  },
  {
   "cell_type": "code",
   "execution_count": 18,
   "id": "3209dcf7-9e92-448c-8363-251d3d564fa4",
   "metadata": {},
   "outputs": [
    {
     "data": {
      "text/html": [
       "<style>.container { width:100% !important; }</style>"
      ],
      "text/plain": [
       "<IPython.core.display.HTML object>"
      ]
     },
     "metadata": {},
     "output_type": "display_data"
    }
   ],
   "source": [
    "from IPython.display import display, HTML\n",
    "display(HTML(\"<style>.container { width:100% !important; }</style>\"))"
   ]
  },
  {
   "cell_type": "code",
   "execution_count": null,
   "id": "be04c3e3-da79-49aa-bddf-1cfdfafe4671",
   "metadata": {},
   "outputs": [],
   "source": [
    "import pandas as pd\n",
    "\n",
    "import time\n",
    "\n",
    "from sqlalchemy.dialects import postgresql\n",
    "from sqlalchemy import Integer, Numeric, String, DateTime, create_engine\n",
    "\n",
    "import psycopg2\n",
    "\n",
    "import os"
   ]
  },
  {
   "cell_type": "code",
   "execution_count": 3,
   "id": "67f4da4a-dcff-4718-b677-1ed12ce88c50",
   "metadata": {},
   "outputs": [
    {
     "data": {
      "text/plain": [
       "True"
      ]
     },
     "execution_count": 3,
     "metadata": {},
     "output_type": "execute_result"
    }
   ],
   "source": [
    "from dotenv import load_dotenv\n",
    "load_dotenv()"
   ]
  },
  {
   "cell_type": "code",
   "execution_count": 7,
   "id": "fc7d391b-cbc9-48bb-ba5f-197ef6c733f2",
   "metadata": {},
   "outputs": [],
   "source": [
    "database = os.getenv('DATABASE')\n",
    "host = os.getenv('DBHOST')\n",
    "port = os.getenv('DBPORT')\n",
    "user = os.getenv('DBUSER')\n",
    "password = os.getenv('DBPASSWORD')"
   ]
  },
  {
   "cell_type": "code",
   "execution_count": 15,
   "id": "eca436bb-08b1-4b4b-853c-48f738dc75e7",
   "metadata": {},
   "outputs": [],
   "source": [
    "conn_string = fr'postgresql+psycopg2://{user}:{password}@{host}/{database}'\n",
    "db = create_engine(conn_string)\n",
    "conn = db.connect()"
   ]
  },
  {
   "cell_type": "code",
   "execution_count": 25,
   "id": "0e483530-ed34-4328-918c-1936a7031640",
   "metadata": {},
   "outputs": [
    {
     "data": {
      "text/plain": [
       "265.473042011261"
      ]
     },
     "execution_count": 25,
     "metadata": {},
     "output_type": "execute_result"
    }
   ],
   "source": [
    "starttime = time.time()\n",
    "df = pd.read_sql(\"\"\"SELECT * FROM articles ORDER BY RANDOM() LIMIT 50000\"\"\",\n",
    "            conn)\n",
    "            # parse_dates={\"publish_date\": {\"format\": \"%d/%m/%y\"}})\n",
    "time.time()-starttime"
   ]
  },
  {
   "cell_type": "code",
   "execution_count": 34,
   "id": "266264c8-3983-4651-8597-786dea391480",
   "metadata": {},
   "outputs": [],
   "source": [
    "df.to_parquet(\"sample_50k_docs.parquet\", index=False)"
   ]
  },
  {
   "cell_type": "code",
   "execution_count": null,
   "id": "a68bf202-9aac-43ff-812e-7d711e0428d0",
   "metadata": {},
   "outputs": [],
   "source": []
  }
 ],
 "metadata": {
  "kernelspec": {
   "display_name": "Python 3 (ipykernel)",
   "language": "python",
   "name": "python3"
  },
  "language_info": {
   "codemirror_mode": {
    "name": "ipython",
    "version": 3
   },
   "file_extension": ".py",
   "mimetype": "text/x-python",
   "name": "python",
   "nbconvert_exporter": "python",
   "pygments_lexer": "ipython3",
   "version": "3.10.13"
  }
 },
 "nbformat": 4,
 "nbformat_minor": 5
}
