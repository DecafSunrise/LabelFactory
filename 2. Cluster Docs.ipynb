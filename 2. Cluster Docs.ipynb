{
 "cells": [
  {
   "cell_type": "code",
   "execution_count": 1,
   "id": "a1f58641-8c80-43e8-a75e-55b529d337f3",
   "metadata": {},
   "outputs": [],
   "source": [
    "import pandas as pd"
   ]
  },
  {
   "cell_type": "code",
   "execution_count": 2,
   "id": "6da8e20e-6e51-42a7-ad7b-06647e1eefb9",
   "metadata": {},
   "outputs": [],
   "source": [
    "df = pd.read_parquet(\"sample_50k_docs.parquet\")"
   ]
  },
  {
   "cell_type": "code",
   "execution_count": 4,
   "id": "deebe2ea-4b50-46f2-b399-68831177465b",
   "metadata": {},
   "outputs": [],
   "source": [
    "import SimpleTopicModel as stm"
   ]
  },
  {
   "cell_type": "code",
   "execution_count": 5,
   "id": "af17e6b1-e524-427e-b593-3545533a1019",
   "metadata": {},
   "outputs": [
    {
     "name": "stderr",
     "output_type": "stream",
     "text": [
      "100%|████████████████████████████████████████████████████████████████████████████| 50000/50000 [08:35<00:00, 97.00it/s]\n"
     ]
    }
   ],
   "source": [
    "df = stm.embed_df(df, 'title')"
   ]
  },
  {
   "cell_type": "code",
   "execution_count": 28,
   "id": "f9e1304f-994c-4507-9b7a-2f513d4807ef",
   "metadata": {},
   "outputs": [
    {
     "name": "stderr",
     "output_type": "stream",
     "text": [
      "C:\\Users\\Dan\\anaconda3\\Whisper\\lib\\site-packages\\umap\\umap_.py:1943: UserWarning:\n",
      "\n",
      "n_jobs value -1 overridden to 1 by setting random_state. Use no seed for parallelism.\n",
      "\n",
      "D:\\work\\coding\\LabelFactory\\SimpleTopicModel.py:74: UserWarning:\n",
      "\n",
      "181 is outside the recommended range of 5-40; consider tuning your min_cluster_size.\n",
      "\n"
     ]
    }
   ],
   "source": [
    "min_cluster = 30\n",
    "reduced_embeddings = stm.umap_reduction(df, embedding_col=\"title_emb\", n_components=3)\n",
    "clusterer = stm.train_clusterer(reduced_embeddings, min_cluster_size=min_cluster)\n",
    "df = stm.add_clusters(df, colname='title', clusterer=clusterer)"
   ]
  },
  {
   "cell_type": "code",
   "execution_count": 29,
   "id": "d371f5a7-1f00-4eec-b311-45f8ae1f4c92",
   "metadata": {},
   "outputs": [],
   "source": [
    "df = stm.prep_for_viz(df, reduced_embeddings)"
   ]
  },
  {
   "cell_type": "code",
   "execution_count": 30,
   "id": "950e0642-5f50-445c-b601-cb9f4fec6829",
   "metadata": {},
   "outputs": [],
   "source": [
    "fig = stm.make_3d_scatter(df, cluster_col='title', unclustered=False)\n",
    "# fig.show()"
   ]
  },
  {
   "cell_type": "code",
   "execution_count": 31,
   "id": "51079b9f-23ed-4a81-9d85-df60a2c9c664",
   "metadata": {},
   "outputs": [],
   "source": [
    "fig.write_html(\"Prospective Topics.html\")"
   ]
  },
  {
   "cell_type": "code",
   "execution_count": 33,
   "id": "972d459c-a4b9-449e-8f7c-450b83ad839d",
   "metadata": {},
   "outputs": [
    {
     "data": {
      "text/plain": [
       "0.0006"
      ]
     },
     "execution_count": 33,
     "metadata": {},
     "output_type": "execute_result"
    }
   ],
   "source": [
    "30/50000"
   ]
  },
  {
   "cell_type": "code",
   "execution_count": null,
   "id": "c9b7af03-b700-40c1-b63a-a8811ae2fdbd",
   "metadata": {},
   "outputs": [],
   "source": [
    "Science, Technology\n",
    "Philosophy and Religion\n",
    "Politics\n",
    "Law Enforcement\n",
    "Military\n",
    "Sports\n",
    "Lifestyle, Food and Home\n",
    "Finance and Economics"
   ]
  }
 ],
 "metadata": {
  "kernelspec": {
   "display_name": "Python 3 (ipykernel)",
   "language": "python",
   "name": "python3"
  },
  "language_info": {
   "codemirror_mode": {
    "name": "ipython",
    "version": 3
   },
   "file_extension": ".py",
   "mimetype": "text/x-python",
   "name": "python",
   "nbconvert_exporter": "python",
   "pygments_lexer": "ipython3",
   "version": "3.10.13"
  }
 },
 "nbformat": 4,
 "nbformat_minor": 5
}
